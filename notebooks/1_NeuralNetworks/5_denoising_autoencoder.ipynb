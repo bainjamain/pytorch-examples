{
 "cells": [
  {
   "cell_type": "markdown",
   "metadata": {},
   "source": [
    "# Denoising Autoencoder\n",
    "\n",
    "A denoising autoencoder is pretty much like a regular autoencoder except that the input $X$ (e.g. an image) is perturbed with some noise, say with an additive Gaussian noise, and the autoencoder is trained to reconstruct the unperturbed input $X$.\n",
    "\n",
    "Adding noise to the input has a positive generalization impact on the autoencoder and forces the autoencoder to learn a meaningful representation. Indeed, the autoencoder has to learn to reconstruct inputs from noisy signals and thus has to learn the structure of the manifold underlying the data set. With a regular autoencoder, if the latent code (representation) has a larger dimension than the input (we say that the autoencoder is over-complete), then the autoencoder could learn the identity mapping and reconstruct inputs perfectly. However, representations from such an autoencoder wouldn't be useful. A denoising autoencoder prevents such pathological behavior.\n",
    "\n",
    "In terms of code, the changes with respect to a regular autoenoder are **very minimal**."
   ]
  },
  {
   "cell_type": "code",
   "execution_count": 1,
   "metadata": {
    "collapsed": false
   },
   "outputs": [],
   "source": [
    "import torch\n",
    "import torchvision\n",
    "import torch.nn as nn\n",
    "from torch.autograd import Variable\n",
    "import matplotlib.pyplot as plt\n",
    "%matplotlib inline"
   ]
  },
  {
   "cell_type": "code",
   "execution_count": 2,
   "metadata": {
    "collapsed": false
   },
   "outputs": [
    {
     "name": "stdout",
     "output_type": "stream",
     "text": [
      "Training on GPU\n"
     ]
    }
   ],
   "source": [
    "cuda = torch.cuda.is_available() # True if cuda is available, False otherwise\n",
    "FloatTensor = torch.cuda.FloatTensor if cuda else torch.FloatTensor\n",
    "print('Training on %s' % ('GPU' if cuda else 'CPU'))"
   ]
  },
  {
   "cell_type": "markdown",
   "metadata": {},
   "source": [
    "Let's load the MNIST data set."
   ]
  },
  {
   "cell_type": "code",
   "execution_count": 3,
   "metadata": {
    "collapsed": false
   },
   "outputs": [],
   "source": [
    "transform = torchvision.transforms.Compose([torchvision.transforms.ToTensor(),\n",
    "                                torchvision.transforms.Normalize((0.1307,), (0.3081,))])\n",
    "mnist = torchvision.datasets.MNIST(root='../data/', train=True, transform=transform, download=True)"
   ]
  },
  {
   "cell_type": "markdown",
   "metadata": {},
   "source": [
    "Create a *loader* to feed the data batch by batch during training."
   ]
  },
  {
   "cell_type": "code",
   "execution_count": 4,
   "metadata": {
    "collapsed": false
   },
   "outputs": [],
   "source": [
    "batch = 300\n",
    "data_loader = torch.utils.data.DataLoader(mnist, batch_size=batch, shuffle=True)"
   ]
  },
  {
   "cell_type": "markdown",
   "metadata": {},
   "source": [
    "Now, we define the **autoencoder**."
   ]
  },
  {
   "cell_type": "code",
   "execution_count": 5,
   "metadata": {
    "collapsed": false
   },
   "outputs": [],
   "source": [
    "autoencoder = nn.Sequential(\n",
    "                # Encoder\n",
    "                nn.Linear(28 * 28, 512),\n",
    "                nn.PReLU(512),\n",
    "                nn.BatchNorm1d(512),\n",
    "    \n",
    "                # Low-dimensional representation\n",
    "                nn.Linear(512, 128),   \n",
    "                nn.PReLU(128),\n",
    "                nn.BatchNorm1d(128),\n",
    "    \n",
    "                # Decoder\n",
    "                nn.Linear(128, 512),\n",
    "                nn.PReLU(512),\n",
    "                nn.Linear(512, 28 * 28))\n",
    "\n",
    "autoencoder = autoencoder.type(FloatTensor)"
   ]
  },
  {
   "cell_type": "markdown",
   "metadata": {},
   "source": [
    "We define the optimization scheme (here **Adam**) for the autoencoder."
   ]
  },
  {
   "cell_type": "code",
   "execution_count": 6,
   "metadata": {
    "collapsed": false
   },
   "outputs": [],
   "source": [
    "optimizer = torch.optim.Adam(params=autoencoder.parameters(), lr=0.005)"
   ]
  },
  {
   "cell_type": "markdown",
   "metadata": {},
   "source": [
    "Finally, we train the autoencoder."
   ]
  },
  {
   "cell_type": "code",
   "execution_count": 7,
   "metadata": {
    "collapsed": false,
    "scrolled": true
   },
   "outputs": [
    {
     "name": "stdout",
     "output_type": "stream",
     "text": [
      "Epoch 1/10 loss 148.6719\n",
      "Epoch 2/10 loss 129.4973\n",
      "Epoch 3/10 loss 116.5954\n",
      "Epoch 4/10 loss 113.3039\n",
      "Epoch 5/10 loss 109.7533\n",
      "Epoch 6/10 loss 107.1297\n",
      "Epoch 7/10 loss 104.0446\n",
      "Epoch 8/10 loss 103.6882\n",
      "Epoch 9/10 loss 101.1380\n",
      "Epoch 10/10 loss 100.3909\n"
     ]
    }
   ],
   "source": [
    "epochs = 10\n",
    "data_size = int(mnist.train_labels.size()[0])\n",
    "\n",
    "for i in range(epochs):\n",
    "    for j, (images, _) in enumerate(data_loader):\n",
    "        images = images.view(images.size(0), -1).type(FloatTensor)\n",
    "        images_noisy = images + 0.2 * torch.randn(images.size()).type(FloatTensor) # adding noise\n",
    "        images = Variable(images, requires_grad=False)\n",
    "        images_noisy = Variable(images_noisy)\n",
    "\n",
    "        autoencoder.zero_grad()\n",
    "        reconstructions = autoencoder(images_noisy) # forward noisy images\n",
    "        loss = torch.dist(images, reconstructions) # compare reconstructions to unperturbed images\n",
    "        loss.backward()\n",
    "        optimizer.step()\n",
    "    print('Epoch %i/%i loss %.4f' % (i + 1, epochs, loss.data[0]))"
   ]
  },
  {
   "cell_type": "markdown",
   "metadata": {},
   "source": [
    "Let's plot some images along their reconstructions."
   ]
  },
  {
   "cell_type": "code",
   "execution_count": 8,
   "metadata": {
    "collapsed": false
   },
   "outputs": [
    {
     "data": {
      "image/png": "[encoded data removed]",
      "text/plain": [
       "<matplotlib.figure.Figure at 0x7f99605ae150>"
      ]
     },
     "metadata": {},
     "output_type": "display_data"
    }
   ],
   "source": [
    "images = images.view(batch, 28, 28).data.cpu().numpy()\n",
    "reconstructions = reconstructions.view(batch, 28, 28).data.cpu().numpy()\n",
    "\n",
    "fig = plt.figure(figsize=(6, 6))\n",
    "for i in range(10):\n",
    "    a = fig.add_subplot(10, 10, i + 1)\n",
    "    b = fig.add_subplot(10, 10, i + 11)\n",
    "    a.axis('off')\n",
    "    b.axis('off')\n",
    "    image = images[i - 1]\n",
    "    reconstruction = reconstructions[i - 1]\n",
    "    a.imshow(image, cmap='Greys_r')\n",
    "    b.imshow(reconstruction, cmap='Greys_r');"
   ]
  }
 ],
 "metadata": {
  "kernelspec": {
   "display_name": "Python 2",
   "language": "python",
   "name": "python2"
  },
  "language_info": {
   "codemirror_mode": {
    "name": "ipython",
    "version": 2
   },
   "file_extension": ".py",
   "mimetype": "text/x-python",
   "name": "python",
   "nbconvert_exporter": "python",
   "pygments_lexer": "ipython2",
   "version": "2.7.6"
  }
 },
 "nbformat": 4,
 "nbformat_minor": 0
}
