{
 "cells": [
  {
   "cell_type": "markdown",
   "metadata": {},
   "source": [
    "# Vanilla Neural Network"
   ]
  },
  {
   "cell_type": "code",
   "execution_count": 1,
   "metadata": {
    "collapsed": false
   },
   "outputs": [],
   "source": [
    "import torch\n",
    "import torchvision\n",
    "import torch.nn as nn\n",
    "from torch.autograd import Variable"
   ]
  },
  {
   "cell_type": "code",
   "execution_count": 2,
   "metadata": {
    "collapsed": false
   },
   "outputs": [
    {
     "name": "stdout",
     "output_type": "stream",
     "text": [
      "Training on GPU\n"
     ]
    }
   ],
   "source": [
    "cuda = torch.cuda.is_available() # True if cuda is available, False otherwise\n",
    "FloatTensor = torch.cuda.FloatTensor if cuda else torch.FloatTensor\n",
    "LongTensor = torch.cuda.LongTensor if cuda else torch.LongTensor\n",
    "print('Training on %s' % ('GPU' if cuda else 'CPU'))"
   ]
  },
  {
   "cell_type": "markdown",
   "metadata": {},
   "source": [
    "Let's load the MNIST data set."
   ]
  },
  {
   "cell_type": "code",
   "execution_count": 3,
   "metadata": {
    "collapsed": false
   },
   "outputs": [
    {
     "name": "stdout",
     "output_type": "stream",
     "text": [
      "Downloading http://yann.lecun.com/exdb/mnist/train-images-idx3-ubyte.gz\n",
      "Downloading http://yann.lecun.com/exdb/mnist/train-labels-idx1-ubyte.gz\n",
      "Downloading http://yann.lecun.com/exdb/mnist/t10k-images-idx3-ubyte.gz\n",
      "Downloading http://yann.lecun.com/exdb/mnist/t10k-labels-idx1-ubyte.gz\n",
      "Processing...\n",
      "Done!\n"
     ]
    }
   ],
   "source": [
    "transform = torchvision.transforms.Compose([torchvision.transforms.ToTensor(),\n",
    "                                torchvision.transforms.Normalize(mean=(.5, .5, .5), std=(.5, .5, .5))])\n",
    "train_data = torchvision.datasets.MNIST(root='../data/', train=True, transform=transform, download=True)\n",
    "test_data = torchvision.datasets.MNIST(root='../data/', train=False, transform=transform, download=True)"
   ]
  },
  {
   "cell_type": "markdown",
   "metadata": {},
   "source": [
    "Create a *loader* to feed the data batch by batch during training."
   ]
  },
  {
   "cell_type": "code",
   "execution_count": 4,
   "metadata": {
    "collapsed": false
   },
   "outputs": [],
   "source": [
    "batch = 100\n",
    "train_loader = torch.utils.data.DataLoader(train_data, batch_size=batch, shuffle=True)\n",
    "test_loader = torch.utils.data.DataLoader(test_data, batch_size=batch)"
   ]
  },
  {
   "cell_type": "markdown",
   "metadata": {},
   "source": [
    "Now, we define the **feedforward neural network**."
   ]
  },
  {
   "cell_type": "code",
   "execution_count": 5,
   "metadata": {
    "collapsed": false
   },
   "outputs": [],
   "source": [
    "net = torch.nn.Sequential(\n",
    "        nn.Linear(28 * 28, 512),\n",
    "        nn.ReLU(),\n",
    "        nn.Linear(512, 512),\n",
    "        nn.ReLU(),\n",
    "        nn.Linear(512, 10))\n",
    "\n",
    "#net = net.cuda() if cuda else net\n",
    "net = net.type(FloatTensor)"
   ]
  },
  {
   "cell_type": "markdown",
   "metadata": {},
   "source": [
    "We define the loss function and the optimization scheme (here **Adam**) for the neural network."
   ]
  },
  {
   "cell_type": "code",
   "execution_count": 6,
   "metadata": {
    "collapsed": false
   },
   "outputs": [],
   "source": [
    "criterion = nn.CrossEntropyLoss()\n",
    "optimizer = torch.optim.Adam(params=net.parameters(), lr=0.001)"
   ]
  },
  {
   "cell_type": "markdown",
   "metadata": {},
   "source": [
    "Finally, we train the classifier."
   ]
  },
  {
   "cell_type": "code",
   "execution_count": 7,
   "metadata": {
    "collapsed": false
   },
   "outputs": [
    {
     "name": "stdout",
     "output_type": "stream",
     "text": [
      "[TEST] Epoch 1/5 loss: 0.30, accuracy: 0.940\n",
      "[TEST] Epoch 2/5 loss: 0.12, accuracy: 0.964\n",
      "[TEST] Epoch 3/5 loss: 0.18, accuracy: 0.962\n",
      "[TEST] Epoch 4/5 loss: 0.11, accuracy: 0.969\n",
      "[TEST] Epoch 5/5 loss: 0.09, accuracy: 0.976\n"
     ]
    }
   ],
   "source": [
    "epochs = 5\n",
    "train_size = int(train_data.train_labels.size()[0])\n",
    "test_size = int(test_data.test_labels.size()[0])\n",
    "\n",
    "accuracy = 0.\n",
    "\n",
    "for i in range(epochs):\n",
    "    # train network\n",
    "    for j, (images, labels) in enumerate(train_loader):\n",
    "        # map tensor from (batch, 1, 28, 28) to (batch, 28 * 28)\n",
    "        #images = Variable(images.view(batch, -1)).cuda() if cuda else Variable(images.view(batch, -1))\n",
    "        #labels = Variable(labels).cuda() if cuda else Variable(labels)\n",
    "        #print type(labels.data)\n",
    "        images = Variable(images.view(batch, -1)).type(FloatTensor)\n",
    "        labels = Variable(labels).type(LongTensor)\n",
    "\n",
    "        net.zero_grad()\n",
    "        outputs = net(images)\n",
    "        loss = criterion(outputs, labels)\n",
    "        loss.backward()\n",
    "        optimizer.step()\n",
    "            \n",
    "    # test network\n",
    "    for images, labels in test_loader:\n",
    "        #images = Variable(images.view(batch, -1)).cuda() if cuda else Variable(images.view(batch, -1))\n",
    "        #labels = Variable(labels).cuda() if cuda else Variable(labels)\n",
    "        images = Variable(images.view(batch, -1)).type(FloatTensor)\n",
    "        labels = Variable(labels).type(LongTensor)\n",
    "        outputs = net(images)\n",
    "        loss = criterion(outputs, labels)\n",
    "        _, predicted = torch.max(outputs, 1)\n",
    "        accuracy += torch.sum(torch.eq(predicted, labels).float()).data[0] / test_size\n",
    "    print('[TEST] Epoch %i/%i loss: %.2f, accuracy: %.3f' % (i + 1, epochs, loss.data[0], accuracy))\n",
    "    accuracy = 0."
   ]
  }
 ],
 "metadata": {
  "kernelspec": {
   "display_name": "Python 2",
   "language": "python",
   "name": "python2"
  },
  "language_info": {
   "codemirror_mode": {
    "name": "ipython",
    "version": 2
   },
   "file_extension": ".py",
   "mimetype": "text/x-python",
   "name": "python",
   "nbconvert_exporter": "python",
   "pygments_lexer": "ipython2",
   "version": "2.7.6"
  }
 },
 "nbformat": 4,
 "nbformat_minor": 0
}
