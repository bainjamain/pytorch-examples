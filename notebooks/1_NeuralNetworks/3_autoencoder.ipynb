{
 "cells": [
  {
   "cell_type": "markdown",
   "metadata": {},
   "source": [
    "# Autoencoder"
   ]
  },
  {
   "cell_type": "code",
   "execution_count": 1,
   "metadata": {
    "collapsed": false
   },
   "outputs": [],
   "source": [
    "import torch\n",
    "import torchvision\n",
    "import torch.nn as nn\n",
    "from torch.autograd import Variable\n",
    "import matplotlib.pyplot as plt\n",
    "%matplotlib inline"
   ]
  },
  {
   "cell_type": "code",
   "execution_count": 2,
   "metadata": {
    "collapsed": false
   },
   "outputs": [
    {
     "name": "stdout",
     "output_type": "stream",
     "text": [
      "Training on GPU\n"
     ]
    }
   ],
   "source": [
    "cuda = torch.cuda.is_available() # True if cuda is available, False otherwise\n",
    "FloatTensor = torch.cuda.FloatTensor if cuda else torch.FloatTensor\n",
    "print('Training on %s' % ('GPU' if cuda else 'CPU'))"
   ]
  },
  {
   "cell_type": "markdown",
   "metadata": {},
   "source": [
    "Let's load the MNIST data set."
   ]
  },
  {
   "cell_type": "code",
   "execution_count": 3,
   "metadata": {
    "collapsed": false
   },
   "outputs": [],
   "source": [
    "transform = torchvision.transforms.Compose([torchvision.transforms.ToTensor(),\n",
    "                                torchvision.transforms.Normalize(mean=(.5, .5, .5), std=(.5, .5, .5))])\n",
    "mnist = torchvision.datasets.MNIST(root='../data/', train=True, transform=transform, download=True)"
   ]
  },
  {
   "cell_type": "markdown",
   "metadata": {},
   "source": [
    "Create a *loader* to feed the data batch by batch during training."
   ]
  },
  {
   "cell_type": "code",
   "execution_count": 4,
   "metadata": {
    "collapsed": false
   },
   "outputs": [],
   "source": [
    "batch = 100\n",
    "data_loader = torch.utils.data.DataLoader(mnist, batch_size=batch, shuffle=True)"
   ]
  },
  {
   "cell_type": "markdown",
   "metadata": {},
   "source": [
    "Now, we define the **autoencoder**."
   ]
  },
  {
   "cell_type": "code",
   "execution_count": 5,
   "metadata": {
    "collapsed": false
   },
   "outputs": [],
   "source": [
    "autoencoder = nn.Sequential(\n",
    "                # Encoder\n",
    "                nn.Linear(28 * 28, 512),\n",
    "                nn.ReLU(),\n",
    "    \n",
    "                # Low-dimensional representation\n",
    "                nn.Linear(512, 128),\n",
    "                nn.ReLU(),\n",
    "    \n",
    "                # Decoder\n",
    "                nn.Linear(128, 512),\n",
    "                nn.ReLU(),\n",
    "                nn.Linear(512, 28 * 28))\n",
    "\n",
    "autoencoder = autoencoder.type(FloatTensor)"
   ]
  },
  {
   "cell_type": "markdown",
   "metadata": {},
   "source": [
    "We define the optimization scheme (here **Adam**) for the autoencoder."
   ]
  },
  {
   "cell_type": "code",
   "execution_count": 6,
   "metadata": {
    "collapsed": false
   },
   "outputs": [],
   "source": [
    "optimizer = torch.optim.Adam(params=autoencoder.parameters(), lr=0.001)"
   ]
  },
  {
   "cell_type": "markdown",
   "metadata": {},
   "source": [
    "Finally, we train the autoencoder."
   ]
  },
  {
   "cell_type": "code",
   "execution_count": 7,
   "metadata": {
    "collapsed": false,
    "scrolled": true
   },
   "outputs": [
    {
     "name": "stdout",
     "output_type": "stream",
     "text": [
      "Epoch 1/10 loss 64.31\n",
      "Epoch 2/10 loss 57.37\n",
      "Epoch 3/10 loss 57.20\n",
      "Epoch 4/10 loss 58.16\n",
      "Epoch 5/10 loss 56.42\n",
      "Epoch 6/10 loss 55.14\n",
      "Epoch 7/10 loss 52.72\n",
      "Epoch 8/10 loss 51.44\n",
      "Epoch 9/10 loss 49.68\n",
      "Epoch 10/10 loss 51.27\n"
     ]
    }
   ],
   "source": [
    "epochs = 10\n",
    "data_size = int(mnist.train_labels.size()[0])\n",
    "\n",
    "for i in range(epochs):\n",
    "    for j, (images, _) in enumerate(data_loader):\n",
    "        # map tensor from (batch, 1, 28, 28) to (batch, 28 * 28)\n",
    "        images = images.view(images.size(0), -1)\n",
    "        images = Variable(images).type(FloatTensor)\n",
    "\n",
    "        autoencoder.zero_grad()\n",
    "        reconstructions = autoencoder(images)\n",
    "        loss = torch.dist(images, reconstructions)\n",
    "        loss.backward()\n",
    "        optimizer.step()\n",
    "    print('Epoch %i/%i loss %.2f' % (i + 1, epochs, loss.data[0]))"
   ]
  },
  {
   "cell_type": "markdown",
   "metadata": {},
   "source": [
    "Let's plot some images along their reconstructions."
   ]
  },
  {
   "cell_type": "code",
   "execution_count": 8,
   "metadata": {
    "collapsed": false
   },
   "outputs": [
    {
     "data": {
      "image/png": "[encoded data removed]",
      "text/plain": [
       "<matplotlib.figure.Figure at 0x7f818e0b1910>"
      ]
     },
     "metadata": {},
     "output_type": "display_data"
    }
   ],
   "source": [
    "images = images.view(batch, 28, 28).data.cpu().numpy()\n",
    "reconstructions = reconstructions.view(batch, 28, 28).data.cpu().numpy()\n",
    "\n",
    "fig = plt.figure(figsize=(6, 6))\n",
    "for i in range(10):\n",
    "    a = fig.add_subplot(10, 10, i + 1)\n",
    "    b = fig.add_subplot(10, 10, i + 11)\n",
    "    a.axis('off')\n",
    "    b.axis('off')\n",
    "    image = images[i - 1]\n",
    "    reconstruction = reconstructions[i - 1]\n",
    "    a.imshow(image, cmap='Greys_r')\n",
    "    b.imshow(reconstruction, cmap='Greys_r');"
   ]
  }
 ],
 "metadata": {
  "kernelspec": {
   "display_name": "Python 2",
   "language": "python",
   "name": "python2"
  },
  "language_info": {
   "codemirror_mode": {
    "name": "ipython",
    "version": 2
   },
   "file_extension": ".py",
   "mimetype": "text/x-python",
   "name": "python",
   "nbconvert_exporter": "python",
   "pygments_lexer": "ipython2",
   "version": "2.7.6"
  }
 },
 "nbformat": 4,
 "nbformat_minor": 0
}
