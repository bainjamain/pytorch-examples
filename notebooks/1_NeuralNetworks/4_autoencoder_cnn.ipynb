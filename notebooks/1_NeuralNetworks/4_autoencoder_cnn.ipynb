{
 "cells": [
  {
   "cell_type": "markdown",
   "metadata": {},
   "source": [
    "# Autoencoder CNN"
   ]
  },
  {
   "cell_type": "code",
   "execution_count": 1,
   "metadata": {
    "collapsed": false
   },
   "outputs": [],
   "source": [
    "import torch\n",
    "import torchvision\n",
    "import torch.nn as nn\n",
    "from torch.autograd import Variable\n",
    "import matplotlib.pyplot as plt\n",
    "%matplotlib inline"
   ]
  },
  {
   "cell_type": "code",
   "execution_count": 2,
   "metadata": {
    "collapsed": false
   },
   "outputs": [
    {
     "name": "stdout",
     "output_type": "stream",
     "text": [
      "Training on GPU\n"
     ]
    }
   ],
   "source": [
    "cuda = torch.cuda.is_available() # True if cuda is available, False otherwise\n",
    "FloatTensor = torch.cuda.FloatTensor if cuda else torch.FloatTensor\n",
    "print('Training on %s' % ('GPU' if cuda else 'CPU'))"
   ]
  },
  {
   "cell_type": "markdown",
   "metadata": {},
   "source": [
    "Let's load the MNIST data set."
   ]
  },
  {
   "cell_type": "code",
   "execution_count": 3,
   "metadata": {
    "collapsed": false
   },
   "outputs": [],
   "source": [
    "transform = torchvision.transforms.Compose([torchvision.transforms.ToTensor(),\n",
    "                                torchvision.transforms.Normalize((0.1307,), (0.3081,))])\n",
    "mnist = torchvision.datasets.MNIST(root='../data/', train=True, transform=transform, download=True)"
   ]
  },
  {
   "cell_type": "markdown",
   "metadata": {},
   "source": [
    "Create a *loader* to feed the data batch by batch during training."
   ]
  },
  {
   "cell_type": "code",
   "execution_count": 4,
   "metadata": {
    "collapsed": false
   },
   "outputs": [],
   "source": [
    "batch = 300\n",
    "data_loader = torch.utils.data.DataLoader(mnist, batch_size=batch, shuffle=True)"
   ]
  },
  {
   "cell_type": "markdown",
   "metadata": {},
   "source": [
    "Now, we define the **autoencoder**."
   ]
  },
  {
   "cell_type": "code",
   "execution_count": 5,
   "metadata": {
    "collapsed": false
   },
   "outputs": [],
   "source": [
    "autoencoder = nn.Sequential(\n",
    "                # Encoder\n",
    "                nn.Conv2d(1, 32, 3, padding=1), # input (1, 28, 28), output (32, 28, 28)\n",
    "                nn.PReLU(32),\n",
    "                nn.BatchNorm2d(32),\n",
    "                nn.MaxPool2d(2), # (32, 14, 14)\n",
    "                nn.Conv2d(32, 64, 3), # (64, 12, 12)\n",
    "                nn.PReLU(64),\n",
    "                nn.BatchNorm2d(64),\n",
    "                nn.MaxPool2d(2), # (64, 6, 6))\n",
    "                \n",
    "                # Low-dimensional representation\n",
    "                nn.Conv2d(64, 8, 3), # (8, 4, 4) -- latent representation\n",
    "                nn.PReLU(8),\n",
    "                nn.BatchNorm2d(8),\n",
    "                \n",
    "                # Decoder\n",
    "                nn.Conv2d(8, 64, 3, padding=2), # (64, 6, 6)\n",
    "                nn.UpsamplingNearest2d(scale_factor=2), # (64, 12, 12)\n",
    "                nn.Conv2d(64, 32, 3, padding=2), # (32, 14, 14)\n",
    "                nn.PReLU(32),\n",
    "                nn.BatchNorm2d(32),\n",
    "                nn.UpsamplingNearest2d(scale_factor=2), # (32, 28, 28)\n",
    "                nn.Conv2d(32, 1, 3, padding=1))\n",
    "\n",
    "autoencoder = autoencoder.type(FloatTensor)"
   ]
  },
  {
   "cell_type": "markdown",
   "metadata": {},
   "source": [
    "We define the optimization scheme (here **Adam**) for the autoencoder."
   ]
  },
  {
   "cell_type": "code",
   "execution_count": 6,
   "metadata": {
    "collapsed": false
   },
   "outputs": [],
   "source": [
    "optimizer = torch.optim.Adam(params=autoencoder.parameters(), lr=0.005)"
   ]
  },
  {
   "cell_type": "markdown",
   "metadata": {},
   "source": [
    "Finally, we train the autoencoder."
   ]
  },
  {
   "cell_type": "code",
   "execution_count": 7,
   "metadata": {
    "collapsed": false,
    "scrolled": true
   },
   "outputs": [
    {
     "name": "stdout",
     "output_type": "stream",
     "text": [
      "Epoch 1/10 loss 123.6709\n",
      "Epoch 2/10 loss 117.1877\n",
      "Epoch 3/10 loss 116.2267\n",
      "Epoch 4/10 loss 107.2482\n",
      "Epoch 5/10 loss 105.6743\n",
      "Epoch 6/10 loss 105.6421\n",
      "Epoch 7/10 loss 100.9907\n",
      "Epoch 8/10 loss 101.9017\n",
      "Epoch 9/10 loss 103.8264\n",
      "Epoch 10/10 loss 96.6634\n"
     ]
    }
   ],
   "source": [
    "epochs = 10\n",
    "data_size = int(mnist.train_labels.size()[0])\n",
    "\n",
    "for i in range(epochs):\n",
    "    for j, (images, _) in enumerate(data_loader):\n",
    "        images = Variable(images).type(FloatTensor)\n",
    "\n",
    "        autoencoder.zero_grad()\n",
    "        reconstructions = autoencoder(images)\n",
    "        loss = torch.dist(images, reconstructions)\n",
    "        loss.backward()\n",
    "        optimizer.step()\n",
    "        \n",
    "    print('Epoch %i/%i loss %.4f' % (i + 1, epochs, loss.data[0]))"
   ]
  },
  {
   "cell_type": "markdown",
   "metadata": {},
   "source": [
    "Let's plot some images along their reconstructions."
   ]
  },
  {
   "cell_type": "code",
   "execution_count": 8,
   "metadata": {
    "collapsed": false
   },
   "outputs": [
    {
     "data": {
      "image/png": "[encoded data removed]",
      "text/plain": [
       "<matplotlib.figure.Figure at 0x7f1af3dbc7d0>"
      ]
     },
     "metadata": {},
     "output_type": "display_data"
    }
   ],
   "source": [
    "images = images.view(batch, 28, 28).data.cpu().numpy()\n",
    "reconstructions = reconstructions.view(batch, 28, 28).data.cpu().numpy()\n",
    "\n",
    "fig = plt.figure(figsize=(6, 6))\n",
    "for i in range(10):\n",
    "    a = fig.add_subplot(10, 10, i + 1)\n",
    "    b = fig.add_subplot(10, 10, i + 11)\n",
    "    a.axis('off')\n",
    "    b.axis('off')\n",
    "    image = images[i - 1]\n",
    "    reconstruction = reconstructions[i - 1]\n",
    "    a.imshow(image, cmap='Greys_r')\n",
    "    b.imshow(reconstruction, cmap='Greys_r');"
   ]
  }
 ],
 "metadata": {
  "kernelspec": {
   "display_name": "Python 2",
   "language": "python",
   "name": "python2"
  },
  "language_info": {
   "codemirror_mode": {
    "name": "ipython",
    "version": 2
   },
   "file_extension": ".py",
   "mimetype": "text/x-python",
   "name": "python",
   "nbconvert_exporter": "python",
   "pygments_lexer": "ipython2",
   "version": "2.7.6"
  }
 },
 "nbformat": 4,
 "nbformat_minor": 0
}
