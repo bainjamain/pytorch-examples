{
 "cells": [
  {
   "cell_type": "markdown",
   "metadata": {},
   "source": [
    "# Wasserstein Generative Adversarial Network (WGAN)"
   ]
  },
  {
   "cell_type": "markdown",
   "metadata": {},
   "source": [
    "In this notebook we follow the Wasserstein Generative Adversarial Network (WGAN) algorithm introduced in *Wasserstein GAN* by Arjovsky et al."
   ]
  },
  {
   "cell_type": "code",
   "execution_count": 1,
   "metadata": {
    "collapsed": false
   },
   "outputs": [],
   "source": [
    "import torch\n",
    "import torch.nn as nn\n",
    "from torch.autograd import Variable\n",
    "import torchvision\n",
    "import numpy as np\n",
    "import matplotlib.pyplot as plt\n",
    "from scipy.stats import norm\n",
    "%matplotlib inline\n",
    "plt.rcParams['figure.figsize'] = 7, 5"
   ]
  },
  {
   "cell_type": "code",
   "execution_count": 2,
   "metadata": {
    "collapsed": false
   },
   "outputs": [
    {
     "name": "stdout",
     "output_type": "stream",
     "text": [
      "Training on CPU\n"
     ]
    }
   ],
   "source": [
    "cuda = torch.cuda.is_available() # True if cuda is available, False otherwise\n",
    "FloatTensor = torch.cuda.FloatTensor if cuda else torch.FloatTensor\n",
    "LongTensor = torch.cuda.LongTensor if cuda else torch.LongTensor\n",
    "print('Training on %s' % ('GPU' if cuda else 'CPU'))"
   ]
  },
  {
   "cell_type": "markdown",
   "metadata": {},
   "source": [
    "## 1. Discriminator Vanishing Gradient"
   ]
  },
  {
   "cell_type": "markdown",
   "metadata": {},
   "source": [
    "Following the paper, let's train the GAN discriminator to convergence as well as the WGAN and compare their gradients."
   ]
  },
  {
   "cell_type": "code",
   "execution_count": 3,
   "metadata": {
    "collapsed": true
   },
   "outputs": [],
   "source": [
    "discriminator_GAN =  nn.Sequential(\n",
    "            nn.Linear(1, 16),\n",
    "            nn.ReLU(),\n",
    "            nn.Linear(16, 16),\n",
    "            nn.ReLU(),\n",
    "            nn.Linear(16, 1),\n",
    "            nn.Sigmoid())\n",
    "optimizer = torch.optim.RMSprop(params=discriminator_GAN.parameters(), lr=.01)"
   ]
  },
  {
   "cell_type": "code",
   "execution_count": 4,
   "metadata": {
    "collapsed": false
   },
   "outputs": [
    {
     "name": "stdout",
     "output_type": "stream",
     "text": [
      "[0/100] Loss 0.70\n",
      "[10/100] Loss 0.00\n",
      "[20/100] Loss -0.00\n",
      "[30/100] Loss -0.00\n",
      "[40/100] Loss -0.00\n",
      "[50/100] Loss -0.00\n",
      "[60/100] Loss -0.00\n",
      "[70/100] Loss -0.00\n",
      "[80/100] Loss -0.00\n",
      "[90/100] Loss -0.00\n",
      "[100/100] Loss -0.00\n"
     ]
    }
   ],
   "source": [
    "batch = 64\n",
    "iters = 100\n",
    "mean = 5\n",
    "for i in range(iters + 1):\n",
    "    X_true = torch.randn(batch) - mean\n",
    "    X_false = torch.randn(batch) + mean\n",
    "    X = Variable(torch.cat([X_true, X_false])).unsqueeze(1)\n",
    "    y = Variable(torch.cat([torch.ones(batch), torch.zeros(batch)]))\n",
    "    output = discriminator_GAN(X)\n",
    "    loss = nn.BCELoss()(output, y)\n",
    "    loss.backward()\n",
    "    optimizer.step()\n",
    "    if i % 10 == 0:\n",
    "        print('[%i/%i] Loss %.2f' % (i, iters, loss.data[0]))"
   ]
  },
  {
   "cell_type": "code",
   "execution_count": 48,
   "metadata": {
    "collapsed": true
   },
   "outputs": [],
   "source": [
    "discriminator_WGAN =  nn.Sequential(\n",
    "            nn.Linear(1, 16),\n",
    "            nn.ReLU(),\n",
    "            nn.Linear(16, 16),\n",
    "            nn.ReLU(),\n",
    "            nn.Linear(16, 1))\n",
    "optimizer = torch.optim.RMSprop(params=discriminator_WGAN.parameters(), lr=.001)"
   ]
  },
  {
   "cell_type": "code",
   "execution_count": 49,
   "metadata": {
    "collapsed": false
   },
   "outputs": [
    {
     "name": "stdout",
     "output_type": "stream",
     "text": [
      "[0/100] Loss -0.57\n",
      "[10/100] Loss -0.18\n",
      "[20/100] Loss -0.27\n",
      "[30/100] Loss -0.34\n",
      "[40/100] Loss -0.38\n",
      "[50/100] Loss -0.42\n",
      "[60/100] Loss -0.43\n",
      "[70/100] Loss -0.44\n",
      "[80/100] Loss -0.44\n",
      "[90/100] Loss -0.43\n",
      "[100/100] Loss -0.45\n"
     ]
    }
   ],
   "source": [
    "c = .1\n",
    "for i in range(iters + 1):\n",
    "    X_true = Variable(torch.randn(batch) - mean)\n",
    "    X_fake = Variable(torch.randn(batch) + mean)\n",
    "    output_true = discriminator_WGAN(X_true.unsqueeze(1))\n",
    "    output_fake = discriminator_WGAN(X_fake.unsqueeze(1))\n",
    "    loss = torch.mean(output_true) - torch.mean(output_fake)\n",
    "    loss.backward()\n",
    "    optimizer.step()\n",
    "    for p in discriminator_WGAN.parameters():\n",
    "        p.data.clamp_(-c, c) # enforce a Lipschitz constraint\n",
    "    if i % 10 == 0:\n",
    "        print('[%i/%i] Loss %.2f' % (i, iters, loss.data[0]))"
   ]
  },
  {
   "cell_type": "code",
   "execution_count": 51,
   "metadata": {
    "collapsed": false
   },
   "outputs": [
    {
     "data": {
      "image/png": "[encoded data removed]",
      "text/plain": [
       "<matplotlib.figure.Figure at 0x7f1d580c4c50>"
      ]
     },
     "metadata": {},
     "output_type": "display_data"
    }
   ],
   "source": [
    "x = Variable(torch.linspace(-8, 8, 100)).unsqueeze(1)\n",
    "y1 = discriminator_GAN(x).data.cpu().numpy()\n",
    "y2 = discriminator_WGAN(x).data.cpu().numpy()\n",
    "x = x.data.cpu().numpy()\n",
    "plt.scatter(X_true.data.cpu().numpy(), np.random.randn(batch) * 0.02, c='blue', s=10, lw=0)\n",
    "plt.scatter(X_fake.data.cpu().numpy(), np.random.randn(batch) * 0.02, c='green', s=10, lw=0)\n",
    "plt.plot(x, norm.pdf(x, loc=-mean), c='blue', label='Density of real')\n",
    "plt.plot(x, norm.pdf(x, loc=mean), c='green', label='Density of fake')\n",
    "plt.plot(x, y1, c='red', label='GAN discriminator')\n",
    "plt.plot(x, y2, c='deepskyblue', label='WGAN critic')\n",
    "plt.ylim(-.5, 1)\n",
    "plt.xlim(-8, 8)\n",
    "plt.legend();"
   ]
  },
  {
   "cell_type": "markdown",
   "metadata": {},
   "source": [
    "Above we reproduce the figure 2 of the paper. We notice the vanishing gradient of the GAN discriminator that cannot give a meaningful signal to train the generator. On the other hand, we remark a piecewise linear WGAN critic that has a *strong* gradient signal everywhere."
   ]
  },
  {
   "cell_type": "markdown",
   "metadata": {},
   "source": [
    "## 2. Training WGAN"
   ]
  },
  {
   "cell_type": "code",
   "execution_count": 3,
   "metadata": {
    "collapsed": false
   },
   "outputs": [],
   "source": [
    "batch = 64\n",
    "transform = torchvision.transforms.Compose([torchvision.transforms.ToTensor(),\n",
    "                                torchvision.transforms.Normalize((0.1307,), (0.3081,))])\n",
    "mnist = torchvision.datasets.MNIST(root='../data/', train=True, transform=transform, download=True)\n",
    "data_loader = torch.utils.data.DataLoader(mnist, batch_size=batch, shuffle=True, drop_last=True)"
   ]
  },
  {
   "cell_type": "code",
   "execution_count": 4,
   "metadata": {
    "collapsed": false
   },
   "outputs": [],
   "source": [
    "class Critic(nn.Module):\n",
    "    def __init__(self):\n",
    "        super(Critic, self).__init__()\n",
    "        self.conv = nn.Sequential(\n",
    "            nn.Conv2d(1, 32, 3, padding=1), # input (1, 28, 28), output (32, 28, 28)\n",
    "            nn.BatchNorm2d(32),\n",
    "            nn.ReLU(),\n",
    "            nn.MaxPool2d(2), # (32, 14, 14)\n",
    "            nn.Conv2d(32, 64, 3), # (64, 12, 12)\n",
    "            nn.BatchNorm2d(64),\n",
    "            nn.ReLU(),\n",
    "            nn.MaxPool2d(2)) # (64, 6, 6)\n",
    "        self.fc = nn.Sequential(\n",
    "            nn.Linear(64 * 6 * 6, 512),\n",
    "            nn.ReLU(),\n",
    "            nn.BatchNorm1d(512),\n",
    "            nn.Linear(512, 1))\n",
    "    \n",
    "    def forward(self, x):\n",
    "        x  = self.conv(x)\n",
    "        x = x.view(x.size(0), -1)\n",
    "        return self.fc(x)\n",
    "    \n",
    "critic = Critic().type(FloatTensor)"
   ]
  },
  {
   "cell_type": "code",
   "execution_count": 5,
   "metadata": {
    "collapsed": true
   },
   "outputs": [],
   "source": [
    "lr = 0.001\n",
    "opt_c = torch.optim.RMSprop(params=critic.parameters(), lr=lr)"
   ]
  },
  {
   "cell_type": "code",
   "execution_count": 6,
   "metadata": {
    "collapsed": false
   },
   "outputs": [
    {
     "name": "stdout",
     "output_type": "stream",
     "text": [
      "[0/10] [0/937] Loss 0.00000 loss_t -0.00803 loss_f -0.00803\n",
      "[0/10] [100/937] Loss 0.00000 loss_t -0.00803 loss_f -0.00803\n",
      "[0/10] [200/937] Loss -0.00000 loss_t -0.00803 loss_f -0.00803\n",
      "[0/10] [300/937] Loss -0.00000 loss_t -0.00803 loss_f -0.00803\n"
     ]
    },
    {
     "ename": "KeyboardInterrupt",
     "evalue": "",
     "output_type": "error",
     "traceback": [
      "\u001b[0;31m---------------------------------------------------------------------------\u001b[0m",
      "\u001b[0;31mKeyboardInterrupt\u001b[0m                         Traceback (most recent call last)",
      "\u001b[0;32m<ipython-input-6-a4d579879a54>\u001b[0m in \u001b[0;36m<module>\u001b[0;34m()\u001b[0m\n\u001b[1;32m     13\u001b[0m         \u001b[0mloss_f\u001b[0m \u001b[0;34m=\u001b[0m  \u001b[0mtorch\u001b[0m\u001b[0;34m.\u001b[0m\u001b[0mmean\u001b[0m\u001b[0;34m(\u001b[0m\u001b[0moutput_fake\u001b[0m\u001b[0;34m)\u001b[0m\u001b[0;34m\u001b[0m\u001b[0m\n\u001b[1;32m     14\u001b[0m         \u001b[0mloss\u001b[0m \u001b[0;34m=\u001b[0m \u001b[0mloss_t\u001b[0m \u001b[0;34m-\u001b[0m \u001b[0mloss_f\u001b[0m\u001b[0;34m\u001b[0m\u001b[0m\n\u001b[0;32m---> 15\u001b[0;31m         \u001b[0mloss\u001b[0m\u001b[0;34m.\u001b[0m\u001b[0mbackward\u001b[0m\u001b[0;34m(\u001b[0m\u001b[0;34m)\u001b[0m\u001b[0;34m\u001b[0m\u001b[0m\n\u001b[0m\u001b[1;32m     16\u001b[0m         \u001b[0mopt_c\u001b[0m\u001b[0;34m.\u001b[0m\u001b[0mstep\u001b[0m\u001b[0;34m(\u001b[0m\u001b[0;34m)\u001b[0m\u001b[0;34m\u001b[0m\u001b[0m\n\u001b[1;32m     17\u001b[0m         \u001b[0;32mfor\u001b[0m \u001b[0mp\u001b[0m \u001b[0;32min\u001b[0m \u001b[0mcritic\u001b[0m\u001b[0;34m.\u001b[0m\u001b[0mparameters\u001b[0m\u001b[0;34m(\u001b[0m\u001b[0;34m)\u001b[0m\u001b[0;34m:\u001b[0m\u001b[0;34m\u001b[0m\u001b[0m\n",
      "\u001b[0;32m/usr/local/lib/python2.7/site-packages/torch/autograd/variable.pyc\u001b[0m in \u001b[0;36mbackward\u001b[0;34m(self, gradient, retain_variables)\u001b[0m\n\u001b[1;32m    144\u001b[0m                     'or with gradient w.r.t. the variable')\n\u001b[1;32m    145\u001b[0m             \u001b[0mgradient\u001b[0m \u001b[0;34m=\u001b[0m \u001b[0mself\u001b[0m\u001b[0;34m.\u001b[0m\u001b[0mdata\u001b[0m\u001b[0;34m.\u001b[0m\u001b[0mnew\u001b[0m\u001b[0;34m(\u001b[0m\u001b[0;34m)\u001b[0m\u001b[0;34m.\u001b[0m\u001b[0mresize_as_\u001b[0m\u001b[0;34m(\u001b[0m\u001b[0mself\u001b[0m\u001b[0;34m.\u001b[0m\u001b[0mdata\u001b[0m\u001b[0;34m)\u001b[0m\u001b[0;34m.\u001b[0m\u001b[0mfill_\u001b[0m\u001b[0;34m(\u001b[0m\u001b[0;36m1\u001b[0m\u001b[0;34m)\u001b[0m\u001b[0;34m\u001b[0m\u001b[0m\n\u001b[0;32m--> 146\u001b[0;31m         \u001b[0mself\u001b[0m\u001b[0;34m.\u001b[0m\u001b[0m_execution_engine\u001b[0m\u001b[0;34m.\u001b[0m\u001b[0mrun_backward\u001b[0m\u001b[0;34m(\u001b[0m\u001b[0;34m(\u001b[0m\u001b[0mself\u001b[0m\u001b[0;34m,\u001b[0m\u001b[0;34m)\u001b[0m\u001b[0;34m,\u001b[0m \u001b[0;34m(\u001b[0m\u001b[0mgradient\u001b[0m\u001b[0;34m,\u001b[0m\u001b[0;34m)\u001b[0m\u001b[0;34m,\u001b[0m \u001b[0mretain_variables\u001b[0m\u001b[0;34m)\u001b[0m\u001b[0;34m\u001b[0m\u001b[0m\n\u001b[0m\u001b[1;32m    147\u001b[0m \u001b[0;34m\u001b[0m\u001b[0m\n\u001b[1;32m    148\u001b[0m     \u001b[0;32mdef\u001b[0m \u001b[0mregister_hook\u001b[0m\u001b[0;34m(\u001b[0m\u001b[0mself\u001b[0m\u001b[0;34m,\u001b[0m \u001b[0mhook\u001b[0m\u001b[0;34m)\u001b[0m\u001b[0;34m:\u001b[0m\u001b[0;34m\u001b[0m\u001b[0m\n",
      "\u001b[0;31mKeyboardInterrupt\u001b[0m: "
     ]
    }
   ],
   "source": [
    "batch = 64\n",
    "epochs = 10\n",
    "c = .1\n",
    "for i in range(epochs):\n",
    "    for j, (images, _) in enumerate(data_loader):\n",
    "        critic.zero_grad()\n",
    "        X_true = Variable(images).type(FloatTensor)\n",
    "        X_fake = Variable(torch.randn(X_true.size())).type(FloatTensor)\n",
    "        output_true = critic(X_true)\n",
    "        output_fake = critic(X_fake)\n",
    "\n",
    "        loss_t = torch.mean(output_true)\n",
    "        loss_f =  torch.mean(output_fake)\n",
    "        loss = loss_t - loss_f\n",
    "        loss.backward()\n",
    "        opt_c.step()\n",
    "        for p in critic.parameters():\n",
    "            p.data.clamp_(-c, c) # enforce Lipschitz constraint\n",
    "            \n",
    "        if j % 100 == 0:\n",
    "            print('[%i/%i] [%i/%i] Loss %.5f loss_t %.5f loss_f %.5f' %\n",
    "                  (i, epochs, j, int(60000. / batch), loss.data[0], loss_t.data[0], loss_f.data[0]))"
   ]
  }
 ],
 "metadata": {
  "kernelspec": {
   "display_name": "Python 2",
   "language": "python",
   "name": "python2"
  },
  "language_info": {
   "codemirror_mode": {
    "name": "ipython",
    "version": 2
   },
   "file_extension": ".py",
   "mimetype": "text/x-python",
   "name": "python",
   "nbconvert_exporter": "python",
   "pygments_lexer": "ipython2",
   "version": "2.7.11"
  }
 },
 "nbformat": 4,
 "nbformat_minor": 0
}
