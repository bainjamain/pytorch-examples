{
 "cells": [
  {
   "cell_type": "markdown",
   "metadata": {},
   "source": [
    "#  Fully Convolutional Neural Network (CNN)"
   ]
  },
  {
   "cell_type": "code",
   "execution_count": 1,
   "metadata": {
    "collapsed": false
   },
   "outputs": [],
   "source": [
    "import torch\n",
    "import torchvision\n",
    "import torch.nn as nn\n",
    "import torch.nn.functional as F\n",
    "from torch.autograd import Variable"
   ]
  },
  {
   "cell_type": "code",
   "execution_count": 2,
   "metadata": {
    "collapsed": false
   },
   "outputs": [
    {
     "name": "stdout",
     "output_type": "stream",
     "text": [
      "Training on GPU\n"
     ]
    }
   ],
   "source": [
    "cuda = torch.cuda.is_available() # True if cuda is available, False otherwise\n",
    "FloatTensor = torch.cuda.FloatTensor if cuda else torch.FloatTensor\n",
    "LongTensor = torch.cuda.LongTensor if cuda else torch.LongTensor\n",
    "print('Training on %s' % ('GPU' if cuda else 'CPU'))"
   ]
  },
  {
   "cell_type": "markdown",
   "metadata": {},
   "source": [
    "Let's load the MNIST data set."
   ]
  },
  {
   "cell_type": "code",
   "execution_count": 3,
   "metadata": {
    "collapsed": false
   },
   "outputs": [],
   "source": [
    "transform = torchvision.transforms.Compose([torchvision.transforms.ToTensor(),\n",
    "                                torchvision.transforms.Normalize(mean=(.5, .5, .5), std=(.5, .5, .5))])\n",
    "train_data = torchvision.datasets.MNIST(root='../data/', train=True, transform=transform, download=True)\n",
    "test_data = torchvision.datasets.MNIST(root='../data/', train=False, transform=transform, download=True)"
   ]
  },
  {
   "cell_type": "markdown",
   "metadata": {},
   "source": [
    "Create a *loader* to feed the data batch by batch during training."
   ]
  },
  {
   "cell_type": "code",
   "execution_count": 4,
   "metadata": {
    "collapsed": false
   },
   "outputs": [],
   "source": [
    "batch = 100\n",
    "train_loader = torch.utils.data.DataLoader(train_data, batch_size=batch, shuffle=True)\n",
    "test_loader = torch.utils.data.DataLoader(test_data, batch_size=batch)"
   ]
  },
  {
   "cell_type": "markdown",
   "metadata": {},
   "source": [
    "Now, we define the **fully convolutional neural network**."
   ]
  },
  {
   "cell_type": "code",
   "execution_count": 5,
   "metadata": {
    "collapsed": false
   },
   "outputs": [],
   "source": [
    "class FCNN(nn.Module):\n",
    "    def __init__(self):\n",
    "        super(FCNN, self).__init__()\n",
    "        self.conv = nn.Sequential(\n",
    "            nn.Conv2d(1, 32, 3, padding=1), # input (1, 28, 28), output (32, 28, 28)\n",
    "            nn.BatchNorm2d(32),\n",
    "            nn.ReLU(),\n",
    "            nn.Conv2d(32, 128, 3, padding=1), # (128, 28, 28)\n",
    "            nn.BatchNorm2d(128),\n",
    "            nn.ReLU(),\n",
    "            nn.MaxPool2d(2), # (128, 14, 14))\n",
    "            \n",
    "            nn.Conv2d(128, 128, 3, padding=1), # (128, 14, 14)\n",
    "            nn.BatchNorm2d(128),\n",
    "            nn.ReLU(),\n",
    "            nn.Conv2d(128, 128, 3, padding=1), # (128, 14, 14)\n",
    "            nn.BatchNorm2d(128),\n",
    "            nn.ReLU(),\n",
    "            nn.MaxPool2d(2), # (128, 7, 7)\n",
    "            nn.Conv2d(128, 10, 1)) # (10, 7, 7)\n",
    "            \n",
    "    def forward(self, x):\n",
    "        x  = self.conv(x)\n",
    "        x = F.avg_pool2d(x, kernel_size=x.size()[2:])\n",
    "        x = x.view(x.size(0), -1)\n",
    "        return F.softmax(x)\n",
    "    \n",
    "fcnn = FCNN().type(FloatTensor)"
   ]
  },
  {
   "cell_type": "markdown",
   "metadata": {},
   "source": [
    "We define the loss function and the optimization scheme (here **Adam**) for the neural network."
   ]
  },
  {
   "cell_type": "code",
   "execution_count": 6,
   "metadata": {
    "collapsed": false
   },
   "outputs": [],
   "source": [
    "criterion = nn.CrossEntropyLoss()\n",
    "optimizer = torch.optim.Adam(params=fcnn.parameters(), lr=0.001)"
   ]
  },
  {
   "cell_type": "markdown",
   "metadata": {},
   "source": [
    "Finally, we train the classifier."
   ]
  },
  {
   "cell_type": "code",
   "execution_count": 7,
   "metadata": {
    "collapsed": false
   },
   "outputs": [
    {
     "name": "stdout",
     "output_type": "stream",
     "text": [
      "[TEST] Epoch 1/5 [step 300/600] accuracy: 0.958\n",
      "[TEST] Epoch 1/5 [step 600/600] accuracy: 0.945\n",
      "[TEST] Epoch 2/5 [step 300/600] accuracy: 0.980\n",
      "[TEST] Epoch 2/5 [step 600/600] accuracy: 0.983\n",
      "[TEST] Epoch 3/5 [step 300/600] accuracy: 0.964\n",
      "[TEST] Epoch 3/5 [step 600/600] accuracy: 0.976\n",
      "[TEST] Epoch 4/5 [step 300/600] accuracy: 0.988\n",
      "[TEST] Epoch 4/5 [step 600/600] accuracy: 0.987\n",
      "[TEST] Epoch 5/5 [step 300/600] accuracy: 0.989\n",
      "[TEST] Epoch 5/5 [step 600/600] accuracy: 0.977\n"
     ]
    }
   ],
   "source": [
    "epochs = 5\n",
    "train_size = int(train_data.train_labels.size()[0])\n",
    "test_size = int(test_data.test_labels.size()[0])\n",
    "\n",
    "accuracy = 0.\n",
    "\n",
    "for i in range(epochs):\n",
    "    for j, (images, labels) in enumerate(train_loader):\n",
    "        fcnn.train()\n",
    "        images = Variable(images).type(FloatTensor)\n",
    "        labels = Variable(labels).type(LongTensor)\n",
    "\n",
    "        fcnn.zero_grad()\n",
    "        outputs = fcnn(images)\n",
    "        loss = criterion(outputs, labels)\n",
    "        loss.backward()\n",
    "        optimizer.step()\n",
    "        \n",
    "        # test network  \n",
    "        if (j + 1) % 300 == 0:\n",
    "            fcnn.eval()\n",
    "            for images, labels in test_loader:\n",
    "                images = Variable(images).type(FloatTensor)\n",
    "                labels = Variable(labels).type(LongTensor)\n",
    "                outputs = fcnn(images)\n",
    "                _, predicted = torch.max(outputs, 1)\n",
    "                accuracy += torch.sum(torch.eq(predicted, labels).float()).data[0] / test_size\n",
    "            print('[TEST] Epoch %i/%i [step %i/%i] accuracy: %.3f' % \n",
    "                  (i + 1, epochs, j + 1, float(train_size) / batch, accuracy))\n",
    "            accuracy = 0."
   ]
  }
 ],
 "metadata": {
  "kernelspec": {
   "display_name": "Python 2",
   "language": "python",
   "name": "python2"
  },
  "language_info": {
   "codemirror_mode": {
    "name": "ipython",
    "version": 2
   },
   "file_extension": ".py",
   "mimetype": "text/x-python",
   "name": "python",
   "nbconvert_exporter": "python",
   "pygments_lexer": "ipython2",
   "version": "2.7.6"
  }
 },
 "nbformat": 4,
 "nbformat_minor": 0
}
