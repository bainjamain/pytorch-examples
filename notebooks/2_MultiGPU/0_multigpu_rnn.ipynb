{
 "cells": [
  {
   "cell_type": "markdown",
   "metadata": {},
   "source": [
    "# RNN on Multiple GPUs"
   ]
  },
  {
   "cell_type": "markdown",
   "metadata": {},
   "source": [
    "To cast a model on multiple GPUs for parallel computations, very few changes are required and we will highlight them."
   ]
  },
  {
   "cell_type": "code",
   "execution_count": 1,
   "metadata": {
    "collapsed": false
   },
   "outputs": [],
   "source": [
    "import torch\n",
    "import torchvision\n",
    "import torch.nn as nn\n",
    "import torch.nn.functional as F\n",
    "from torch.autograd import Variable\n",
    "import time"
   ]
  },
  {
   "cell_type": "code",
   "execution_count": 2,
   "metadata": {
    "collapsed": false
   },
   "outputs": [],
   "source": [
    "transform = torchvision.transforms.Compose([torchvision.transforms.ToTensor(),\n",
    "                                torchvision.transforms.Normalize(mean=(.5, .5, .5), std=(.5, .5, .5))])\n",
    "train_data = torchvision.datasets.MNIST(root='../data/', train=True, transform=transform, download=True)\n",
    "test_data = torchvision.datasets.MNIST(root='../data/', train=False, transform=transform, download=True)"
   ]
  },
  {
   "cell_type": "code",
   "execution_count": 3,
   "metadata": {
    "collapsed": false
   },
   "outputs": [],
   "source": [
    "batch = 600 # 2 GPUs, batch of 600/2=300 images per GPU\n",
    "train_loader = torch.utils.data.DataLoader(train_data, batch_size=batch, shuffle=True)\n",
    "test_loader = torch.utils.data.DataLoader(test_data, batch_size=batch)"
   ]
  },
  {
   "cell_type": "markdown",
   "metadata": {},
   "source": [
    "Now, we define the CNN as before."
   ]
  },
  {
   "cell_type": "code",
   "execution_count": 4,
   "metadata": {
    "collapsed": false
   },
   "outputs": [],
   "source": [
    "class RNN(nn.Module):\n",
    "    def __init__(self):\n",
    "        super(RNN, self).__init__()\n",
    "        self.rnn = nn.LSTM(input_size=28, hidden_size=1024, num_layers=2, batch_first=True)\n",
    "        self.fc = nn.Sequential(\n",
    "                    nn.Linear(1024, 10),\n",
    "                    nn.Softmax())\n",
    "    \n",
    "    def forward(self, x):\n",
    "        x, _  = self.rnn(x)\n",
    "        x = x[:, -1, :] # last output\n",
    "        return self.fc(x)\n",
    "\n",
    "rnn = RNN().cuda()"
   ]
  },
  {
   "cell_type": "markdown",
   "metadata": {},
   "source": [
    "And here is the ***magic line*** that parallelize the whole model on multiple GPUs!"
   ]
  },
  {
   "cell_type": "code",
   "execution_count": 5,
   "metadata": {
    "collapsed": true
   },
   "outputs": [],
   "source": [
    "rnn = torch.nn.DataParallel(rnn, device_ids=[0, 1, 2])"
   ]
  },
  {
   "cell_type": "code",
   "execution_count": 6,
   "metadata": {
    "collapsed": false
   },
   "outputs": [],
   "source": [
    "criterion = nn.CrossEntropyLoss()\n",
    "optimizer = torch.optim.Adam(params=rnn.parameters(), lr=0.001)"
   ]
  },
  {
   "cell_type": "code",
   "execution_count": 7,
   "metadata": {
    "collapsed": false
   },
   "outputs": [
    {
     "name": "stdout",
     "output_type": "stream",
     "text": [
      "[TEST] Epoch 1/5 [step 100/100] accuracy: 0.827\n",
      "[TEST] Epoch 2/5 [step 100/100] accuracy: 0.942\n",
      "[TEST] Epoch 3/5 [step 100/100] accuracy: 0.952\n",
      "[TEST] Epoch 4/5 [step 100/100] accuracy: 0.954\n",
      "[TEST] Epoch 5/5 [step 100/100] accuracy: 0.972\n",
      "Network trained in 98.38 seconds\n"
     ]
    }
   ],
   "source": [
    "epochs = 5\n",
    "train_size = int(train_data.train_labels.size()[0])\n",
    "test_size = int(test_data.test_labels.size()[0])\n",
    "accuracy = 0.\n",
    "\n",
    "start = time.time()\n",
    "for i in range(epochs):\n",
    "    for j, (images, labels) in enumerate(train_loader):\n",
    "        images = Variable(images).view(images.size(0), 28, 28)\n",
    "        labels = Variable(labels).cuda()\n",
    "\n",
    "        rnn.zero_grad()\n",
    "        outputs = rnn(images)\n",
    "        loss = criterion(outputs, labels)\n",
    "        loss.backward()\n",
    "        optimizer.step()\n",
    "        \n",
    "        # test network  \n",
    "        if (j + 1) % (60000 / batch) == 0:\n",
    "            for images, labels in test_loader:\n",
    "                images = Variable(images).view(images.size(0), 28, 28)\n",
    "                labels = Variable(labels).cuda()\n",
    "                outputs = rnn(images)\n",
    "                _, predicted = torch.max(outputs, 1)\n",
    "                accuracy += torch.sum(torch.eq(predicted, labels).float()).data[0] / test_size\n",
    "            print('[TEST] Epoch %i/%i [step %i/%i] accuracy: %.3f' % \n",
    "                  (i + 1, epochs, j + 1, float(train_size) / batch, accuracy))\n",
    "            accuracy = 0.\n",
    "\n",
    "print('Network trained in %.2f seconds' % (time.time() - start))"
   ]
  },
  {
   "cell_type": "markdown",
   "metadata": {},
   "source": [
    "The same network with one GPU and batches of size 300 takes ~175 seconds for 5 epochs, i.e. with 2 GPUs the networks trains ~1.8x faster.\n",
    "\n",
    "The training speed does not increase linearly in the number of GPUs because of the overhead due to communications between GPUs for instance."
   ]
  }
 ],
 "metadata": {
  "kernelspec": {
   "display_name": "Python 2",
   "language": "python",
   "name": "python2"
  },
  "language_info": {
   "codemirror_mode": {
    "name": "ipython",
    "version": 2
   },
   "file_extension": ".py",
   "mimetype": "text/x-python",
   "name": "python",
   "nbconvert_exporter": "python",
   "pygments_lexer": "ipython2",
   "version": "2.7.6"
  }
 },
 "nbformat": 4,
 "nbformat_minor": 0
}
