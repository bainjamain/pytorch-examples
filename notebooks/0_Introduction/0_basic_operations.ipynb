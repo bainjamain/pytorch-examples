{
 "cells": [
  {
   "cell_type": "markdown",
   "metadata": {},
   "source": [
    "# Basic Operations with PyTorch\n",
    "\n",
    "PyTorch is a Tensor framework like NumPy. Let's see how it works."
   ]
  },
  {
   "cell_type": "code",
   "execution_count": 1,
   "metadata": {
    "collapsed": true
   },
   "outputs": [],
   "source": [
    "import torch\n",
    "import numpy as np"
   ]
  },
  {
   "cell_type": "code",
   "execution_count": 2,
   "metadata": {
    "collapsed": false
   },
   "outputs": [
    {
     "name": "stdout",
     "output_type": "stream",
     "text": [
      "\n",
      " 2  2  2\n",
      " 2  2  2\n",
      "[torch.FloatTensor of size 2x3]\n",
      " \n",
      " 2  2\n",
      " 2  2\n",
      " 2  2\n",
      "[torch.FloatTensor of size 3x2]\n",
      "\n"
     ]
    }
   ],
   "source": [
    "# Let's create a 2x2 matrix filleds with 2s\n",
    "A = torch.Tensor(2, 3) # creates a tensor of shape (2, 3)\n",
    "A.fill_(2.) # fills the tensor with 2s. In PyTorch, operations postfixed by `_` are in place\n",
    "\n",
    "# Or, simply...\n",
    "B = 2. * torch.ones(3, 2)\n",
    "\n",
    "print A, B"
   ]
  },
  {
   "cell_type": "code",
   "execution_count": 3,
   "metadata": {
    "collapsed": false
   },
   "outputs": [
    {
     "name": "stdout",
     "output_type": "stream",
     "text": [
      "\n",
      " 4  4  4\n",
      " 4  4  4\n",
      "[torch.FloatTensor of size 2x3]\n",
      " \n",
      " 5  5  5\n",
      " 5  5  5\n",
      "[torch.FloatTensor of size 2x3]\n",
      "\n"
     ]
    }
   ],
   "source": [
    "print A + A, A + 3"
   ]
  },
  {
   "cell_type": "code",
   "execution_count": 4,
   "metadata": {
    "collapsed": false
   },
   "outputs": [
    {
     "name": "stdout",
     "output_type": "stream",
     "text": [
      "\n",
      " 2  2\n",
      " 2  2\n",
      " 2  2\n",
      "[torch.FloatTensor of size 3x2]\n",
      " \n",
      " 12  12\n",
      " 12  12\n",
      "[torch.FloatTensor of size 2x2]\n",
      " \n",
      " 4  4  4\n",
      " 4  4  4\n",
      "[torch.FloatTensor of size 2x3]\n",
      "\n"
     ]
    }
   ],
   "source": [
    "A_t =  A.t() # or A.t_() for in place transposition\n",
    "AB = A.mm(B) # computes A.B (matrix multiplication), equivalent to A @ B in Python 3.5+\n",
    "A_h = A * A # computes the element-wise matrix multiplication (Hadamard product)\n",
    "print A_t, AB, A_h"
   ]
  },
  {
   "cell_type": "code",
   "execution_count": 5,
   "metadata": {
    "collapsed": false
   },
   "outputs": [
    {
     "data": {
      "text/plain": [
       "\n",
       " 16  16  16\n",
       " 16  16  16\n",
       "[torch.FloatTensor of size 2x3]"
      ]
     },
     "execution_count": 5,
     "metadata": {},
     "output_type": "execute_result"
    }
   ],
   "source": [
    "# Applying a function element-wise to a Tensor\n",
    "f =  lambda x: x * x\n",
    "A = f(A)\n",
    "\n",
    "# Or, simply\n",
    "A.apply_(lambda x: x * x)"
   ]
  },
  {
   "cell_type": "code",
   "execution_count": 6,
   "metadata": {
    "collapsed": true
   },
   "outputs": [],
   "source": [
    "A = np.ones((2, 3))\n",
    "A = torch.from_numpy(A) # Casting an array from NumPy to PyTorch...\n",
    "A = A.numpy() # ... and back to NumPy"
   ]
  }
 ],
 "metadata": {
  "kernelspec": {
   "display_name": "Python 2",
   "language": "python",
   "name": "python2"
  },
  "language_info": {
   "codemirror_mode": {
    "name": "ipython",
    "version": 2
   },
   "file_extension": ".py",
   "mimetype": "text/x-python",
   "name": "python",
   "nbconvert_exporter": "python",
   "pygments_lexer": "ipython2",
   "version": "2.7.6"
  }
 },
 "nbformat": 4,
 "nbformat_minor": 0
}
