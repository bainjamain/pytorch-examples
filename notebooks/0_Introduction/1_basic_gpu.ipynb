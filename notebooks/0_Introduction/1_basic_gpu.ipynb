{
 "cells": [
  {
   "cell_type": "markdown",
   "metadata": {},
   "source": [
    "# PyTorch: NumPy on Steroids\n",
    "\n",
    "PyTorch, like NumPy, is a tensor library but **with GPU support** and acceleration. On top of this, PyTorch is a deep learning library.\n",
    "\n",
    "Let's compare the running time of a simple operation with vanilla NumPy and its counterpart PyTorch on GPU."
   ]
  },
  {
   "cell_type": "code",
   "execution_count": 1,
   "metadata": {
    "collapsed": false
   },
   "outputs": [],
   "source": [
    "import numpy as np\n",
    "import torch\n",
    "import time"
   ]
  },
  {
   "cell_type": "code",
   "execution_count": 2,
   "metadata": {
    "collapsed": false
   },
   "outputs": [],
   "source": [
    "n = 10000\n",
    "A = np.random.randn(n, n)"
   ]
  },
  {
   "cell_type": "code",
   "execution_count": 3,
   "metadata": {
    "collapsed": false
   },
   "outputs": [
    {
     "name": "stdout",
     "output_type": "stream",
     "text": [
      "7.4536 seconds\n"
     ]
    }
   ],
   "source": [
    "start = time.time()\n",
    "A2 = np.matmul(A, A)\n",
    "print('%.4f seconds' % (time.time() - start))"
   ]
  },
  {
   "cell_type": "code",
   "execution_count": 4,
   "metadata": {
    "collapsed": false
   },
   "outputs": [
    {
     "name": "stdout",
     "output_type": "stream",
     "text": [
      "0.2152 seconds\n"
     ]
    }
   ],
   "source": [
    "A = torch.from_numpy(A).cuda() # to cast a tensor on a GPU we only have to cast its type to `cuda`\n",
    "start = time.time()\n",
    "A2 = torch.mm(A, A)\n",
    "print('%.4f seconds' % (time.time() - start))"
   ]
  },
  {
   "cell_type": "markdown",
   "metadata": {},
   "source": [
    "On this simple example, we note a 30x speed up in the matrix multiplication with a Titan X GPU.\n",
    "\n",
    "Let's look more closely how to map a calculation to a specific GPU (in case of a multi-GPU system)."
   ]
  },
  {
   "cell_type": "code",
   "execution_count": 5,
   "metadata": {
    "collapsed": false
   },
   "outputs": [
    {
     "name": "stdout",
     "output_type": "stream",
     "text": [
      "Number of GPUs: 4\n",
      "ID of the GPU used: 0\n",
      "ID of the GPU used: 1\n"
     ]
    }
   ],
   "source": [
    "print('Number of GPUs: %i' % torch.cuda.device_count())\n",
    "print('ID of the GPU used: %i' % torch.cuda.current_device()) # current default GPU\n",
    "torch.cuda.set_device(1) # switch to GPU 1\n",
    "print('ID of the GPU used: %i' % torch.cuda.current_device())"
   ]
  },
  {
   "cell_type": "code",
   "execution_count": 6,
   "metadata": {
    "collapsed": false
   },
   "outputs": [
    {
     "name": "stdout",
     "output_type": "stream",
     "text": [
      "A is on GPU 0\n",
      "A is on GPU 3\n"
     ]
    }
   ],
   "source": [
    "# Using context manager to place operations on a given device\n",
    "with torch.cuda.device(0):\n",
    "    A = torch.randn(n, n).cuda()\n",
    "    A2 = A.mm(A)\n",
    "print('A is on GPU %i' % (A.get_device()))\n",
    "      \n",
    "with torch.cuda.device(3):\n",
    "    A = torch.randn(n, n).cuda()\n",
    "    A2 = A.mm(A)\n",
    "print('A is on GPU %i' % (A.get_device()))"
   ]
  }
 ],
 "metadata": {
  "kernelspec": {
   "display_name": "Python 2",
   "language": "python",
   "name": "python2"
  },
  "language_info": {
   "codemirror_mode": {
    "name": "ipython",
    "version": 2
   },
   "file_extension": ".py",
   "mimetype": "text/x-python",
   "name": "python",
   "nbconvert_exporter": "python",
   "pygments_lexer": "ipython2",
   "version": "2.7.6"
  }
 },
 "nbformat": 4,
 "nbformat_minor": 0
}
