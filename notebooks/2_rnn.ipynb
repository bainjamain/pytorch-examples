{
 "cells": [
  {
   "cell_type": "markdown",
   "metadata": {},
   "source": [
    "# Recurrent Neural Network (RNN/LSTM)"
   ]
  },
  {
   "cell_type": "code",
   "execution_count": 1,
   "metadata": {
    "collapsed": false
   },
   "outputs": [],
   "source": [
    "import torch\n",
    "import torchvision\n",
    "import torch.nn as nn\n",
    "from torch.autograd import Variable\n",
    "\n",
    "cuda = torch.cuda.is_available() # True if cuda is available, False otherwise"
   ]
  },
  {
   "cell_type": "markdown",
   "metadata": {},
   "source": [
    "Let's load the MNIST data set."
   ]
  },
  {
   "cell_type": "code",
   "execution_count": 2,
   "metadata": {
    "collapsed": false
   },
   "outputs": [],
   "source": [
    "transform = torchvision.transforms.Compose([torchvision.transforms.ToTensor(),\n",
    "                                torchvision.transforms.Normalize(mean=(.5, .5, .5), std=(.5, .5, .5))])\n",
    "train_data = torchvision.datasets.MNIST(root='../data/', train=True, transform=transform, download=True)\n",
    "test_data = torchvision.datasets.MNIST(root='../data/', train=False, transform=transform, download=True)"
   ]
  },
  {
   "cell_type": "markdown",
   "metadata": {},
   "source": [
    "Create a *loader* to feed the data batch by batch during training."
   ]
  },
  {
   "cell_type": "code",
   "execution_count": 3,
   "metadata": {
    "collapsed": false
   },
   "outputs": [],
   "source": [
    "batch = 100\n",
    "train_loader = torch.utils.data.DataLoader(train_data, batch_size=batch, shuffle=True)\n",
    "test_loader = torch.utils.data.DataLoader(test_data, batch_size=batch)"
   ]
  },
  {
   "cell_type": "markdown",
   "metadata": {},
   "source": [
    "Now, we define the **recurrent neural network**."
   ]
  },
  {
   "cell_type": "code",
   "execution_count": 4,
   "metadata": {
    "collapsed": false
   },
   "outputs": [],
   "source": [
    "class RNN(nn.Module):\n",
    "    def __init__(self):\n",
    "        super(RNN, self).__init__()\n",
    "        self.rnn = nn.LSTM(input_size=28, hidden_size=1024, num_layers=1, batch_first=True)\n",
    "        self.fc = nn.Sequential(\n",
    "                    nn.Linear(1024, 10),\n",
    "                    nn.Softmax())\n",
    "    \n",
    "    def forward(self, x):\n",
    "        h0 = Variable(torch.randn(1, x.size(0), 1024))\n",
    "        c0 = Variable(torch.randn(1, x.size(0), 1024))\n",
    "        if cuda:\n",
    "            h0, c0 = h0.cuda(), c0.cuda()\n",
    "        x, _  = self.rnn(x, (h0, c0))\n",
    "        x = x[:, -1, :] # last output\n",
    "        return self.fc(x)\n",
    "\n",
    "rnn = RNN().cuda() if cuda else RNN()"
   ]
  },
  {
   "cell_type": "markdown",
   "metadata": {},
   "source": [
    "We define the loss function and the optimization scheme (here **Adam**) for the neural network."
   ]
  },
  {
   "cell_type": "code",
   "execution_count": 5,
   "metadata": {
    "collapsed": false
   },
   "outputs": [],
   "source": [
    "criterion = nn.CrossEntropyLoss()\n",
    "optimizer = torch.optim.Adam(params=rnn.parameters(), lr=0.001)"
   ]
  },
  {
   "cell_type": "markdown",
   "metadata": {},
   "source": [
    "Finally, we train the classifier."
   ]
  },
  {
   "cell_type": "code",
   "execution_count": 6,
   "metadata": {
    "collapsed": false
   },
   "outputs": [
    {
     "name": "stdout",
     "output_type": "stream",
     "text": [
      "[TEST] Epoch 1/5 [step 300/600] accuracy: 0.803\n",
      "[TEST] Epoch 1/5 [step 600/600] accuracy: 0.901\n",
      "[TEST] Epoch 2/5 [step 300/600] accuracy: 0.942\n",
      "[TEST] Epoch 2/5 [step 600/600] accuracy: 0.956\n",
      "[TEST] Epoch 3/5 [step 300/600] accuracy: 0.956\n",
      "[TEST] Epoch 3/5 [step 600/600] accuracy: 0.966\n",
      "[TEST] Epoch 4/5 [step 300/600] accuracy: 0.969\n",
      "[TEST] Epoch 4/5 [step 600/600] accuracy: 0.976\n",
      "[TEST] Epoch 5/5 [step 300/600] accuracy: 0.973\n",
      "[TEST] Epoch 5/5 [step 600/600] accuracy: 0.976\n"
     ]
    }
   ],
   "source": [
    "epochs = 5\n",
    "train_size = int(train_data.train_labels.size()[0])\n",
    "test_size = int(test_data.test_labels.size()[0])\n",
    "accuracy = 0.\n",
    "\n",
    "for i in range(epochs):\n",
    "    for j, (images, labels) in enumerate(train_loader):\n",
    "        images = Variable(images).view(images.size(0), 28, 28)\n",
    "        if cuda:\n",
    "            images = images.cuda()\n",
    "        labels = Variable(labels).cuda() if cuda else Variable(labels)\n",
    "\n",
    "        rnn.zero_grad()\n",
    "        outputs = rnn(images)\n",
    "        loss = criterion(outputs, labels)\n",
    "        loss.backward()\n",
    "        optimizer.step()\n",
    "        \n",
    "        # test network  \n",
    "        if (j + 1) % 300 == 0:\n",
    "            for images, labels in test_loader:\n",
    "                images = Variable(images).view(images.size(0), 28, 28)\n",
    "                if cuda:\n",
    "                    images = images.cuda()\n",
    "                labels = Variable(labels).cuda() if cuda else Variable(labels)\n",
    "                outputs = rnn(images)\n",
    "                _, predicted = torch.max(outputs, 1)\n",
    "                accuracy += torch.sum(torch.eq(predicted, labels).float()).data[0] / test_size\n",
    "            print('[TEST] Epoch %i/%i [step %i/%i] accuracy: %.3f' % \n",
    "                  (i + 1, epochs, j + 1, float(train_size) / batch, accuracy))\n",
    "            accuracy = 0."
   ]
  }
 ],
 "metadata": {
  "kernelspec": {
   "display_name": "Python 2",
   "language": "python",
   "name": "python2"
  },
  "language_info": {
   "codemirror_mode": {
    "name": "ipython",
    "version": 2
   },
   "file_extension": ".py",
   "mimetype": "text/x-python",
   "name": "python",
   "nbconvert_exporter": "python",
   "pygments_lexer": "ipython2",
   "version": "2.7.6"
  }
 },
 "nbformat": 4,
 "nbformat_minor": 0
}
